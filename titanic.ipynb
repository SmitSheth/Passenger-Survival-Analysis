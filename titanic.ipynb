{
 "cells": [
  {
   "cell_type": "code",
   "execution_count": null,
   "metadata": {},
   "outputs": [],
   "source": [
    "import pandas as pd\n",
    "import numpy as np\n",
    "from keras.layers import Dense, Activation, Merge, Reshape\n",
    "from keras.models import Sequential\n",
    "from sklearn.preprocessing import LabelEncoder\n",
    "from keras.optimizers import RMSprop\n",
    "from keras.layers import Dropout\n",
    "from keras.wrappers.scikit_learn import KerasClassifier\n",
    "from sklearn.model_selection import GridSearchCV\n",
    "from sklearn.preprocessing import OneHotEncoder\n",
    "from keras.layers.embeddings import Embedding\n",
    "\n",
    "%matplotlib inline\n",
    "from matplotlib import pyplot as plt"
   ]
  },
  {
   "cell_type": "code",
   "execution_count": null,
   "metadata": {
    "collapsed": true
   },
   "outputs": [],
   "source": [
    "train_data=pd.read_csv('train.csv')\n",
    "test_data=pd.read_csv('test.csv')"
   ]
  },
  {
   "cell_type": "code",
   "execution_count": null,
   "metadata": {
    "collapsed": true
   },
   "outputs": [],
   "source": [
    "from sklearn.preprocessing import Imputer\n",
    "\n",
    "imputer=Imputer()\n",
    "cols_remove_nan=[\"Age\",\"SibSp\",\"Parch\",\"Fare\"]\n",
    "\n",
    "for col in cols_remove_nan:\n",
    "    train_data[col]=imputer.fit_transform(train_data[col].values.reshape(-1,1))\n",
    "    test_data[col]=imputer.fit_transform(test_data[col].values.reshape(-1,1))"
   ]
  },
  {
   "cell_type": "code",
   "execution_count": null,
   "metadata": {
    "collapsed": true
   },
   "outputs": [],
   "source": [
    " cols_not_concerned=[\"Ticket\",\"Cabin\",\"Survived\",\"PassengerId\",\"Name\"]\n",
    "#cols_not_concerned=[\"Ticket\",\"Fare\",\"Cabin\",\"Survived\",\"PassengerId\",\"Name\"]\n",
    "data=train_data.drop(cols_not_concerned,axis=1)\n",
    "tcols_not_concerned=[\"Ticket\",\"Cabin\",\"PassengerId\",\"Name\"]\n",
    "#tcols_not_concerned=[\"Ticket\",\"Fare\",\"Cabin\",\"PassengerId\",\"Name\"]\n",
    "tdata=test_data.drop(tcols_not_concerned, axis=1)\n"
   ]
  },
  {
   "cell_type": "code",
   "execution_count": null,
   "metadata": {
    "collapsed": true
   },
   "outputs": [],
   "source": [
    "data['Embarked'] = data['Embarked'].fillna('C') \n",
    "tdata['Embarked']=tdata['Embarked'].fillna('C')"
   ]
  },
  {
   "cell_type": "code",
   "execution_count": null,
   "metadata": {
    "collapsed": true
   },
   "outputs": [],
   "source": [
    "le = LabelEncoder()\n",
    "le.fit([\"male\",\"female\"])\n",
    "data[\"Sex\"]=le.transform(data[\"Sex\"])\n",
    "tdata[\"Sex\"]=le.transform(tdata[\"Sex\"])\n",
    "\n",
    "le = LabelEncoder()\n",
    "le.fit([\"Q\",\"C\",\"S\"])\n",
    "data[\"Embarked\"]=le.transform(data[\"Embarked\"])\n",
    "tdata[\"Embarked\"]=le.transform(tdata[\"Embarked\"])\n"
   ]
  },
  {
   "cell_type": "code",
   "execution_count": null,
   "metadata": {
    "collapsed": true
   },
   "outputs": [],
   "source": [
    "embed_columns=[col for col in data.columns if (train_data[col].dtype=='object')]\n",
    "non_embed_columns=[col for col in data.columns if(col not in embed_columns)]"
   ]
  },
  {
   "cell_type": "code",
   "execution_count": null,
   "metadata": {
    "collapsed": true
   },
   "outputs": [],
   "source": [
    "embed_data = pd.DataFrame()\n",
    "non_embed_data = pd.DataFrame()\n",
    "for col in embed_columns:\n",
    "    embed_data[col]=data[col]\n",
    "for col in non_embed_columns:\n",
    "    non_embed_data[col]=data[col] \n",
    "    "
   ]
  },
  {
   "cell_type": "code",
   "execution_count": null,
   "metadata": {
    "collapsed": true
   },
   "outputs": [],
   "source": [
    "from sklearn.preprocessing import StandardScaler\n",
    "sc=StandardScaler()\n",
    "non_embed_data=sc.fit_transform(non_embed_data)"
   ]
  },
  {
   "cell_type": "code",
   "execution_count": null,
   "metadata": {
    "collapsed": true
   },
   "outputs": [],
   "source": [
    "labels=train_data['Survived']"
   ]
  },
  {
   "cell_type": "code",
   "execution_count": null,
   "metadata": {},
   "outputs": [],
   "source": [
    "models=[]\n",
    "\n",
    "model_sex = Sequential()\n",
    "model_sex.add(Embedding(2, 2, input_length=1))\n",
    "model_sex.add(Reshape(target_shape=(2,)))\n",
    "models.append(model_sex)\n",
    "\n",
    "model_embark = Sequential()\n",
    "model_embark.add(Embedding(3, 2, input_length=1))\n",
    "model_embark.add(Reshape(target_shape=(2,)))\n",
    "models.append(model_embark)\n",
    "\n",
    "\n",
    "model_input = Sequential()\n",
    "model_input.add(Dense(8,input_dim=5))\n",
    "models.append(model_input)\n",
    "                \n",
    "model = Sequential()\n",
    "model.add(Merge(models, mode='concat'))\n",
    "model.add(Activation('relu'))\n",
    "model.add(Dense(6, kernel_initializer='glorot_uniform', activation='relu'))\n",
    "model.add(Dense(1,activation='sigmoid'))                \n",
    "                \n",
    "                "
   ]
  },
  {
   "cell_type": "code",
   "execution_count": null,
   "metadata": {
    "collapsed": true
   },
   "outputs": [],
   "source": [
    "from keras.optimizers import RMSprop\n",
    "from keras.optimizers import SGD\n",
    "learning_rate=0.1\n",
    "optimizer=RMSprop(lr=learning_rate)\n",
    "model.compile(loss='binary_crossentropy', optimizer=optimizer, metrics=['accuracy'])\n",
    "\n"
   ]
  },
  {
   "cell_type": "code",
   "execution_count": null,
   "metadata": {},
   "outputs": [],
   "source": [
    "history=model.fit([embed_data['Sex'],embed_data['Embarked'],non_embed_data],labels,epochs=500,batch_size=128,validation_split=0.1)"
   ]
  },
  {
   "cell_type": "code",
   "execution_count": null,
   "metadata": {},
   "outputs": [],
   "source": [
    "plt.plot(history.history['loss'])\n",
    "plt.plot(history.history['val_loss'])\n",
    "plt.title('model loss')\n",
    "plt.ylabel('loss')\n",
    "plt.xlabel('epoch')\n",
    "plt.legend(['train','validation'], loc='upper left')\n",
    "plt.show()"
   ]
  },
  {
   "cell_type": "code",
   "execution_count": null,
   "metadata": {
    "collapsed": true
   },
   "outputs": [],
   "source": []
  }
 ],
 "metadata": {
  "kernelspec": {
   "display_name": "Python 3",
   "language": "python",
   "name": "python3"
  },
  "language_info": {
   "codemirror_mode": {
    "name": "ipython",
    "version": 3
   },
   "file_extension": ".py",
   "mimetype": "text/x-python",
   "name": "python",
   "nbconvert_exporter": "python",
   "pygments_lexer": "ipython3",
   "version": "3.6.3"
  }
 },
 "nbformat": 4,
 "nbformat_minor": 2
}
